{
 "cells": [
  {
   "cell_type": "code",
   "execution_count": 1,
   "metadata": {},
   "outputs": [],
   "source": [
    "import numpy as np\n",
    "import matplotlib.pyplot as plt\n",
    "\n",
    "def game(strategies, b):\n",
    "    global bias\n",
    "    bias = b\n",
    "    global prev_dice\n",
    "    prev_dice = np.random.uniform(1,7)\n",
    "    \n",
    "    board = np.zeros((4,4), dtype = int) - 1\n",
    "    win = 0\n",
    "    \n",
    "    while win != 1:\n",
    "        for i in range(0,4):\n",
    "            board = play(i, board, strategies[i,:])\n",
    "            #print(board)\n",
    "            if sum(board[i,:]) == 118:\n",
    "                win = 1\n",
    "                return i"
   ]
  },
  {
   "cell_type": "code",
   "execution_count": 2,
   "metadata": {},
   "outputs": [],
   "source": [
    "def unfair_dice(previous_dice):\n",
    "    r = np.random.uniform(0,1)\n",
    "    new_dice = 0\n",
    "    \n",
    "    if previous_dice == 1:\n",
    "        w1 = [1/13, 3/13, 5/13, 7/13, 9/13, 13/13]\n",
    "        \n",
    "        for i in range(6):\n",
    "            if r < w1[i]:\n",
    "                new_dice = i + 1\n",
    "                break\n",
    "                \n",
    "    elif previous_dice == 2:\n",
    "        w2 = [2/13, 3/13, 5/13, 7/13, 11/13, 13/13]\n",
    "            \n",
    "        for i in range(6):\n",
    "            if r < w2[i]:\n",
    "                new_dice = i + 1\n",
    "                break\n",
    "                \n",
    "    elif previous_dice == 3:\n",
    "        w3 = [2/13, 4/13, 5/13, 9/13, 11/13, 13/13]\n",
    "        \n",
    "        for i in range(6):\n",
    "            if r < w3[i]:\n",
    "                new_dice = i + 1\n",
    "                break\n",
    "                \n",
    "    elif previous_dice == 4:\n",
    "        w4 = [2/13, 4/13, 8/13, 9/13, 11/13, 13/13]\n",
    "        \n",
    "        for i in range(6):\n",
    "            if r < w4[i]:\n",
    "                new_dice = i + 1\n",
    "                break\n",
    "                \n",
    "    elif previous_dice == 5:\n",
    "        w5 = [2/13, 6/13, 8/13, 10/13, 11/13, 13/13]\n",
    "        \n",
    "        for i in range(6):\n",
    "            if r < w5[i]:\n",
    "                new_dice = i + 1\n",
    "                break\n",
    "    else:\n",
    "        w6 = [4/13, 6/13, 8/13, 10/13, 12/13, 13/13]\n",
    "        \n",
    "        for i in range(6):\n",
    "            if r < w6[i]:\n",
    "                new_dice = i + 1\n",
    "                break\n",
    "                \n",
    "    return new_dice"
   ]
  },
  {
   "cell_type": "code",
   "execution_count": 123,
   "metadata": {},
   "outputs": [],
   "source": [
    "#dices = []\n",
    "\n",
    "#for i in range(500000):\n",
    "#    dices.append(unfair_dice(6))\n",
    "    \n",
    "#plt.hist(dices)"
   ]
  },
  {
   "cell_type": "code",
   "execution_count": 3,
   "metadata": {},
   "outputs": [],
   "source": [
    "def play(player, board, strategy):\n",
    "    transformBoard(player, board)\n",
    "    global bias\n",
    "    global prev_dice\n",
    "    if bias == 0:\n",
    "        dice = np.random.randint(1,7)\n",
    "    else:\n",
    "        dice = unfair_dice(prev_dice)\n",
    "        \n",
    "    prev_dice = dice\n",
    "    \n",
    "    moves = playableMoves(board, dice, player)\n",
    "    \n",
    "    if np.sum(moves) == 0:\n",
    "        reverseBoard(player, board)\n",
    "        return board\n",
    "    \n",
    "    util = utility(board, moves, dice, player)\n",
    "    score = list(np.dot(strategy, util))\n",
    "    move = score.index(max(score))\n",
    "    \n",
    "    newBoard(board, move, dice, player)\n",
    "    reverseBoard(player, board)\n",
    "    \n",
    "    if dice == 6:\n",
    "        play(player, board, strategy)\n",
    "    \n",
    "    return board"
   ]
  },
  {
   "cell_type": "code",
   "execution_count": 4,
   "metadata": {},
   "outputs": [],
   "source": [
    "def newBoard(board, move, dice, player):\n",
    "    if board[player, move] == -1:\n",
    "        board[player, move] = 0\n",
    "    else:\n",
    "        board[player, move] += dice\n",
    "    \n",
    "    for i in range(0,4):\n",
    "        for j in range(0, 4):\n",
    "            if i != player:\n",
    "                if board[i,j] == board[player, move] and board[i,j] < 28: \n",
    "                    #print(\"lors\")\n",
    "                    board[i,j] = -1"
   ]
  },
  {
   "cell_type": "code",
   "execution_count": 5,
   "metadata": {},
   "outputs": [],
   "source": [
    "def reverseBoard(player, board):\n",
    "    oldBoard = np.array(board)\n",
    "    for i in range(0,3):\n",
    "        board[(player + i + 1) % 4,:] = (board[(player + i + 1) % 4,:] - 7 * (i+1)) % 28  \n",
    "   \n",
    "\n",
    "    mask = (oldBoard == -1) | (oldBoard > 27)\n",
    "    board[mask] = oldBoard[mask]\n",
    "    #for i in range(0,4):\n",
    "       #for j in range(0,4):\n",
    "            #if(oldBoard[i,j] == -1 or oldBoard[i,j] > 27):\n",
    "                #board[i,j] = oldBoard[i,j]"
   ]
  },
  {
   "cell_type": "code",
   "execution_count": 7,
   "metadata": {},
   "outputs": [],
   "source": [
    "def transformBoard(player, board):\n",
    "    oldBoard = np.array(board)\n",
    "    for i in range(0,3):\n",
    "        board[(player + i + 1) % 4,:] = (board[(player + i + 1) % 4,:] + 7 * (i+1)) % 28  \n",
    "    for i in range(0,4):\n",
    "        for j in range(0,4):\n",
    "            if(oldBoard[i,j] == -1 or oldBoard[i,j] > 27):\n",
    "                board[i,j] = oldBoard[i,j]"
   ]
  },
  {
   "cell_type": "code",
   "execution_count": 8,
   "metadata": {},
   "outputs": [],
   "source": [
    "def playableMoves(board, dice, player):\n",
    "    moves = np.array([0,0,0,0])\n",
    "    for i in range(0, 4):\n",
    "        if len(np.where(board[player,:] == board[player,i] + dice)[0]) == 0 and board[player, i] + dice < 32 and board[player, i] != -1:\n",
    "            moves[i] = 1\n",
    "        else:\n",
    "            moves[i] = 0\n",
    "        if dice == 6 and len(np.where(board[player,:] == 0)[0]) == 0 and board[player, i] == -1:\n",
    "            moves[i] = 1\n",
    "        \n",
    "    return moves"
   ]
  },
  {
   "cell_type": "code",
   "execution_count": 9,
   "metadata": {},
   "outputs": [],
   "source": [
    "def utility(board, moves, dice, player):\n",
    "    utils = np.zeros((10,4), dtype = float)\n",
    "    \n",
    "    utils[0,:] = lead(board, moves, dice, player)\n",
    "    utils[1,:] = new(board, moves, dice, player)\n",
    "    utils[2,:] = eat(board, moves, dice, player)\n",
    "    utils[3,:] = goal(board, moves, dice, player)\n",
    "    utils[4,:] = last(board, moves, dice, player)\n",
    "    utils[5,:] = eaters(board, moves, dice, player)\n",
    "    utils[6,:] = eatables(board, moves, dice, player)\n",
    "    return utils"
   ]
  },
  {
   "cell_type": "code",
   "execution_count": 10,
   "metadata": {},
   "outputs": [],
   "source": [
    "def lead(board, moves, dice, player):\n",
    "    \n",
    "    max = -2\n",
    "    max_i = -1\n",
    "    for i in range(0, 4):\n",
    "        if moves[i] == 1 and board[player, i] > max and board[player, i] < 28:\n",
    "            max = board[player, i]\n",
    "            max_i = i\n",
    "    \n",
    "    if max_i < 0:\n",
    "        return moves\n",
    "    else:\n",
    "        result = np.array([0,0,0,0])   \n",
    "        result[max_i] = 1\n",
    "        return result"
   ]
  },
  {
   "cell_type": "code",
   "execution_count": 11,
   "metadata": {},
   "outputs": [],
   "source": [
    "def new(board, moves, dice, player):\n",
    "    \n",
    "    max = -2\n",
    "    max_i = -1\n",
    "    for i in range(0, 4):\n",
    "        if moves[i] == 1 and board[player, i] == -1:\n",
    "            max = board[player, i]\n",
    "            max_i = i\n",
    "            break\n",
    "    \n",
    "    if max_i < 0:\n",
    "        return moves\n",
    "    else:\n",
    "        result = np.array([0,0,0,0])   \n",
    "        result[max_i] = 1\n",
    "        return result"
   ]
  },
  {
   "cell_type": "code",
   "execution_count": 12,
   "metadata": {},
   "outputs": [],
   "source": [
    "def eat(board, moves, dice, player):\n",
    "    \n",
    "    result = np.array([0,0,0,0])\n",
    "    for m in range(0,4):\n",
    "        if moves[m] == 1:\n",
    "            for i in range(0, 4):\n",
    "                for j in range(0, 4):\n",
    "                    if (board[player, m] + dice == board[i,j] and board[i,j] < 28 and board[player, m] != -1) or (board[i,j] == 0 and board[player, m] == -1):\n",
    "                        result[m] = 1\n",
    "                \n",
    "    if sum(result) == 0:\n",
    "        return moves\n",
    "    else:\n",
    "        return result"
   ]
  },
  {
   "cell_type": "code",
   "execution_count": 13,
   "metadata": {},
   "outputs": [],
   "source": [
    "def goal(board, moves, dice, player):\n",
    "    \n",
    "    result = np.array([0,0,0,0])\n",
    "    \n",
    "    for m in range(0,4):\n",
    "        if moves[m] == 1 and dice + board[player, m] > 27:\n",
    "            result[m] = 1\n",
    "    \n",
    "    if sum(result) == 0:\n",
    "        return moves\n",
    "    else:\n",
    "        return result"
   ]
  },
  {
   "cell_type": "code",
   "execution_count": 14,
   "metadata": {},
   "outputs": [],
   "source": [
    "def last(board, moves, dice, player):\n",
    "    \n",
    "    min = 32\n",
    "    min_i = -1\n",
    "    for i in range(0, 4):\n",
    "        if moves[i] == 1 and board[player, i] < min and board[player, i] > -1:\n",
    "            min = board[player, i]\n",
    "            min_i = i\n",
    "    \n",
    "    if min_i < 0:\n",
    "        return moves\n",
    "    else:\n",
    "        result = np.array([0,0,0,0])   \n",
    "        result[min_i] = 1\n",
    "        return result"
   ]
  },
  {
   "cell_type": "code",
   "execution_count": 16,
   "metadata": {},
   "outputs": [],
   "source": [
    "def can_be_eaten(board, place, dice, player):\n",
    "    if dice == 6 and board[player, place] == -1:\n",
    "        location = 0\n",
    "    else:\n",
    "        location = board[player, place] + dice\n",
    "    \n",
    "    if location > 27:\n",
    "        return 0\n",
    "    \n",
    "    eaters = 0\n",
    "    \n",
    "    abs_board = np.array(board)\n",
    "    reverseBoard(player, abs_board)\n",
    "    for i in range(0, 4):\n",
    "        if i != player:\n",
    "            for j in range(0,4):\n",
    "                difference = location - board[i,j]\n",
    "                if board[i,j] < 28 and board[i,j] != -1 and difference <= 6 and difference > 0 and abs_board[i,j] + difference < 28:  \n",
    "                    eaters += 1\n",
    "    \n",
    "    return eaters"
   ]
  },
  {
   "cell_type": "code",
   "execution_count": 17,
   "metadata": {},
   "outputs": [],
   "source": [
    "def eaters(board, moves, dice, player):\n",
    "    result = np.array([0, 0, 0, 0])\n",
    "    for m in range(0,4):\n",
    "        if moves[m] == 1:\n",
    "            result[m] = can_be_eaten(board, m, 0, player) - can_be_eaten(board, m, dice, player)\n",
    "    \n",
    "    if sum(result) == 0:\n",
    "        return moves\n",
    "    else:\n",
    "        return result"
   ]
  },
  {
   "cell_type": "code",
   "execution_count": 18,
   "metadata": {},
   "outputs": [],
   "source": [
    "def can_eat(board, place, dice, player):\n",
    "    \n",
    "    if dice == 6 and board[player, place] == -1:\n",
    "        location = 0\n",
    "    else:\n",
    "        location = board[player, place] + dice\n",
    "    \n",
    "    if location > 27:\n",
    "        return 0\n",
    "    \n",
    "    can_eat = 0\n",
    "    \n",
    "    for i in range(0, 4):\n",
    "        if i != player:\n",
    "            for j in range(0,4):\n",
    "                difference = board[i,j] - location\n",
    "                if board[i,j] < 28 and board[i,j] != -1 and difference <= 6 and difference > 0:  \n",
    "                    can_eat += 1\n",
    "    \n",
    "    return can_eat"
   ]
  },
  {
   "cell_type": "code",
   "execution_count": 19,
   "metadata": {},
   "outputs": [],
   "source": [
    "def eatables(board, moves, dice, player):\n",
    "    result = np.array([0, 0, 0, 0])\n",
    "    for m in range(0,4):\n",
    "        if moves[m] == 1:\n",
    "            result[m] = can_eat(board, m, dice, player) - can_eat(board, m, 0, player)\n",
    "    \n",
    "    if sum(result) == 0:\n",
    "        return moves\n",
    "    else:\n",
    "        return result"
   ]
  },
  {
   "cell_type": "code",
<<<<<<< HEAD
   "execution_count": 170,
=======
   "execution_count": 20,
>>>>>>> c72c96ab55d85b5714b9ce008a29e4ce353df6d8
   "metadata": {},
   "outputs": [],
   "source": [
    "#lead\n",
    "#new\n",
    "#eat\n",
    "#goal\n",
    "#last\n",
    "karki_liikkuu = np.array([100, 20, 30, 50, 0, 20, 10, 0, 0, 0])\n",
    "juna_liikkuu  = np.array([0, 120, 30, 0, 100, 50, 10, 0, 0, 0])\n",
    "full_destruction = np.array([0, 400, 500, 0, 0, 0, 200, 0, 0, 0])\n",
    "smart = np.array([70, 10, 100, 200, 50, 20, 30, 0, 0, 0])\n",
    "optimal = np.array([7,14,40,31,42,6,38,10,2,9])\n"
   ]
  },
  {
   "cell_type": "code",
   "execution_count": 21,
   "metadata": {},
   "outputs": [],
   "source": [
    "strategies = np.zeros((4,10))\n",
    "strategies[0,:] = karki_liikkuu\n",
    "strategies[1,:] = juna_liikkuu\n",
    "strategies[2,:] = full_destruction\n",
    "strategies[3,:] = optimal"
   ]
  },
  {
   "cell_type": "markdown",
   "metadata": {},
   "source": [
    "unbiased_wins = []\n",
    "biased_wins = []\n",
    "\n",
    "for i in range(0,1000):\n",
    "    if i % 10 == 0:\n",
    "        print(i)\n",
    "    unbiased_wins.append(game(strategies, 0))\n",
    "    biased_wins.append(game(strategies, 1))\n",
    "print(\"End\")        "
   ]
  },
  {
   "cell_type": "code",
   "execution_count": 26,
   "metadata": {},
   "outputs": [
    {
     "data": {
      "image/png": "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\n",
      "text/plain": [
       "<matplotlib.figure.Figure at 0x7f6a75fc9b70>"
      ]
     },
     "metadata": {},
     "output_type": "display_data"
    }
   ],
   "source": [
    "plt.subplot(1,2,1)\n",
    "plt.hist(unbiased_wins)\n",
    "plt.subplot(1,2,2)\n",
    "plt.hist(biased_wins)\n",
    "plt.show()"
   ]
  },
  {
   "cell_type": "code",
   "execution_count": 30,
   "metadata": {},
   "outputs": [
    {
     "data": {
      "text/plain": [
       "array([-0.03296703, -0.12403101,  0.02108434,  0.06766917])"
      ]
     },
     "execution_count": 30,
     "metadata": {},
     "output_type": "execute_result"
    }
   ],
   "source": [
    "(np.bincount(np.array(biased_wins)) - np.bincount(np.array(unbiased_wins)))/np.bincount(unbiased_wins)"
   ]
  },
  {
   "cell_type": "code",
   "execution_count": 172,
   "metadata": {},
   "outputs": [],
   "source": [
    "def games(n, strategies):\n",
    "    wins = []\n",
    "    for i in range(0,n):\n",
    "        #if i % 10 == 0:\n",
    "            #print(i)\n",
    "        wins.append(game(strategies))\n",
    "    return wins"
   ]
  },
  {
   "cell_type": "code",
   "execution_count": 174,
   "metadata": {},
   "outputs": [
    {
     "data": {
      "text/plain": [
       "(array([ 267.,    0.,    0.,  122.,    0.,    0.,  345.,    0.,    0.,  266.]),\n",
       " array([ 0. ,  0.3,  0.6,  0.9,  1.2,  1.5,  1.8,  2.1,  2.4,  2.7,  3. ]),\n",
       " <a list of 10 Patch objects>)"
      ]
     },
     "execution_count": 174,
     "metadata": {},
     "output_type": "execute_result"
    },
    {
     "data": {
      "image/png": "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\n",
      "text/plain": [
       "<matplotlib.figure.Figure at 0x7f0ea4a91e10>"
      ]
     },
     "metadata": {},
     "output_type": "display_data"
    }
   ],
   "source": [
    "plt.hist(games(1000, strategies))"
   ]
  },
  {
   "cell_type": "raw",
   "metadata": {},
   "source": [
    "plt.hist(wins)"
   ]
  },
  {
   "cell_type": "code",
   "execution_count": 168,
   "metadata": {},
   "outputs": [
    {
     "name": "stdout",
     "output_type": "stream",
     "text": [
      " "
     ]
    },
    {
     "data": {
      "text/plain": [
       "         6516750 function calls (6494920 primitive calls) in 39.071 seconds\n",
       "\n",
       "   Ordered by: internal time\n",
       "\n",
       "   ncalls  tottime  percall  cumtime  percall filename:lineno(function)\n",
       "   415386    7.900    0.000    8.224    0.000 <ipython-input-166-1b6dc8e7ca81>:1(reverseBoard)\n",
       "   301360    4.577    0.000   10.224    0.000 <ipython-input-157-0a72ffab61f9>:1(can_be_eaten)\n",
       "   301360    4.004    0.000    4.004    0.000 <ipython-input-159-04afb00925c3>:1(can_eat)\n",
       "   133973    3.847    0.000    3.980    0.000 <ipython-input-149-02b2f3b97c4f>:1(transformBoard)\n",
       "   133973    3.417    0.000    4.245    0.000 <ipython-input-150-a4abb519f9cb>:1(playableMoves)\n",
       "    90964    2.934    0.000    3.372    0.000 <ipython-input-154-0f708fc5e2be>:1(eat)\n",
       "  1516177    2.247    0.000    2.247    0.000 {built-in method numpy.core.multiarray.array}\n",
       "   475999    1.225    0.000    1.225    0.000 {built-in method builtins.sum}\n",
       "    90964    1.185    0.000   23.061    0.000 <ipython-input-151-360d3de43b87>:1(utility)\n",
       "133973/112143    1.018    0.000   38.409    0.000 <ipython-input-124-30294cc85de1>:1(play)\n",
       "    90964    0.912    0.000    0.912    0.000 <ipython-input-125-68953c677183>:1(newBoard)\n",
       "   133973    0.788    0.000    0.788    0.000 {method 'randint' of 'mtrand.RandomState' objects}\n",
       "   133973    0.671    0.000    0.671    0.000 {method 'reduce' of 'numpy.ufunc' objects}\n",
       "    90964    0.499    0.000   11.115    0.000 <ipython-input-158-3f840ee5dbc6>:1(eaters)\n",
       "    90964    0.483    0.000    4.898    0.000 <ipython-input-160-531a9329a875>:1(eatables)\n",
       "    90964    0.465    0.000    0.695    0.000 <ipython-input-152-7729304eec8d>:1(lead)\n",
       "   133973    0.415    0.000    1.222    0.000 fromnumeric.py:1730(sum)\n",
       "    90964    0.409    0.000    0.758    0.000 <ipython-input-155-0b1f92fd473c>:1(goal)\n",
       "    90964    0.400    0.000    0.550    0.000 <ipython-input-156-b5d0731d711a>:1(last)\n",
       "   625324    0.376    0.000    0.376    0.000 {built-in method numpy.core.multiarray.where}\n",
       "      500    0.321    0.001   39.070    0.078 <ipython-input-121-d77725396dfd>:4(game)\n",
       "    90964    0.276    0.000    0.308    0.000 <ipython-input-153-de060d5c99f4>:1(new)\n",
       "    91464    0.180    0.000    0.180    0.000 {built-in method numpy.core.multiarray.zeros}\n",
       "    90964    0.170    0.000    0.170    0.000 {built-in method numpy.core.multiarray.dot}\n",
       "    90964    0.090    0.000    0.090    0.000 {built-in method builtins.max}\n",
       "   133973    0.081    0.000    0.752    0.000 _methods.py:31(_sum)\n",
       "   625324    0.073    0.000    0.073    0.000 {built-in method builtins.len}\n",
       "   133973    0.055    0.000    0.055    0.000 {built-in method builtins.isinstance}\n",
       "    90964    0.050    0.000    0.050    0.000 {method 'index' of 'list' objects}\n",
       "        1    0.001    0.001   39.071   39.071 <ipython-input-163-1090814e39b1>:1(run_game)\n",
       "      500    0.000    0.000    0.000    0.000 {method 'append' of 'list' objects}\n",
       "        1    0.000    0.000   39.071   39.071 {built-in method builtins.exec}\n",
       "        1    0.000    0.000   39.071   39.071 <string>:1(<module>)\n",
       "        1    0.000    0.000    0.000    0.000 {method 'disable' of '_lsprof.Profiler' objects}"
      ]
     },
     "metadata": {},
     "output_type": "display_data"
    }
   ],
   "source": [
    "%prun wins = run_game(500, strategies)"
   ]
  },
  {
   "cell_type": "code",
   "execution_count": null,
   "metadata": {},
   "outputs": [],
   "source": []
  }
 ],
 "metadata": {
  "kernelspec": {
   "display_name": "Python 3",
   "language": "python",
   "name": "python3"
  },
  "language_info": {
   "codemirror_mode": {
    "name": "ipython",
    "version": 3
   },
   "file_extension": ".py",
   "mimetype": "text/x-python",
   "name": "python",
   "nbconvert_exporter": "python",
   "pygments_lexer": "ipython3",
   "version": "3.5.3"
  }
 },
 "nbformat": 4,
 "nbformat_minor": 2
}
