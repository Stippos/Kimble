{
 "cells": [
  {
   "cell_type": "code",
   "execution_count": 126,
   "metadata": {},
   "outputs": [],
   "source": [
    "import numpy as np\n",
    "import matplotlib.pyplot as plt\n",
    "\n",
    "def game(strategies):\n",
    "    \n",
    "    board = np.zeros((4,4), dtype = int) - 1\n",
    "    win = 0\n",
    "    \n",
    "    while win != 1:\n",
    "        for i in range(0,4):\n",
    "            board = play(i, board, strategies[i,:])\n",
    "            #print(board)\n",
    "            if sum(board[i,:]) == 118:\n",
    "                win = 1\n",
    "                return i"
   ]
  },
  {
   "cell_type": "code",
   "execution_count": 115,
   "metadata": {},
   "outputs": [],
   "source": [
    "def play(player, board, strategy):\n",
    "    transformBoard(player, board)\n",
    "    dice = np.random.randint(1,7)\n",
    "    moves = playableMoves(board, dice, player)\n",
    "    \n",
    "    if np.sum(moves) == 0:\n",
    "        reverseBoard(player, board)\n",
    "        return board\n",
    "    \n",
    "    util = utility(board, moves, dice, player)\n",
    "    score = list(np.dot(strategy, util))\n",
    "    move = score.index(max(score))\n",
    "    \n",
    "    newBoard(board, move, dice, player)\n",
    "    reverseBoard(player, board)\n",
    "    \n",
    "    if dice == 6:\n",
    "        play(player, board, strategy)\n",
    "    \n",
    "    return board"
   ]
  },
  {
   "cell_type": "code",
   "execution_count": 123,
   "metadata": {},
   "outputs": [],
   "source": [
    "def newBoard(board, move, dice, player):\n",
    "    if board[player, move] == -1:\n",
    "        board[player, move] = 0\n",
    "    else:\n",
    "        board[player, move] += dice\n",
    "    \n",
    "    for i in range(0,4):\n",
    "        for j in range(0, 4):\n",
    "            if i != player:\n",
    "                if board[i,j] == board[player, move] and board[i,j] < 28: \n",
    "                    #print(\"lors\")\n",
    "                    board[i,j] = -1"
   ]
  },
  {
   "cell_type": "code",
   "execution_count": 92,
   "metadata": {},
   "outputs": [],
   "source": [
    "def reverseBoard(player, board):\n",
    "    oldBoard = np.array(board)\n",
    "    for i in range(0,3):\n",
    "        board[(player + i + 1) % 4,:] = (board[(player + i + 1) % 4,:] - 7 * (i+1)) % 28  \n",
    "    for i in range(0,4):\n",
    "        for j in range(0,4):\n",
    "            if(oldBoard[i,j] == -1 or oldBoard[i,j] > 27):\n",
    "                board[i,j] = oldBoard[i,j]"
   ]
  },
  {
   "cell_type": "code",
   "execution_count": 93,
   "metadata": {},
   "outputs": [],
   "source": [
    "def transformBoard(player, board):\n",
    "    oldBoard = np.array(board)\n",
    "    for i in range(0,3):\n",
    "        board[(player + i + 1) % 4,:] = (board[(player + i + 1) % 4,:] + 7 * (i+1)) % 28  \n",
    "    for i in range(0,4):\n",
    "        for j in range(0,4):\n",
    "            if(oldBoard[i,j] == -1 or oldBoard[i,j] > 27):\n",
    "                board[i,j] = oldBoard[i,j]"
   ]
  },
  {
   "cell_type": "code",
   "execution_count": 94,
   "metadata": {},
   "outputs": [],
   "source": [
    "def playableMoves(board, dice, player):\n",
    "    moves = np.array([0,0,0,0])\n",
    "    for i in range(0, 4):\n",
    "        if len(np.where(board[player,:] == board[player,i] + dice)[0]) == 0 and board[player, i] + dice < 32 and board[player, i] != -1:\n",
    "            moves[i] = 1\n",
    "        else:\n",
    "            moves[i] = 0\n",
    "        if dice == 6 and len(np.where(board[player,:] == 0)[0]) == 0 and board[player, i] == -1:\n",
    "            moves[i] = 1\n",
    "        \n",
    "    return moves"
   ]
  },
  {
   "cell_type": "code",
   "execution_count": 112,
   "metadata": {},
   "outputs": [],
   "source": [
    "def utility(board, moves, dice, player):\n",
    "    utils = np.zeros((10,4), dtype = float)\n",
    "    \n",
    "    utils[0,:] = lead(board, moves, dice, player)\n",
    "    utils[1,:] = new(board, moves, dice, player)\n",
    "    utils[2,:] = eat(board, moves, dice, player)\n",
    "    utils[3,:] = goal(board, moves, dice, player)\n",
    "    utils[4,:] = last(board, moves, dice, player)\n",
    "    \n",
    "    return utils"
   ]
  },
  {
   "cell_type": "code",
   "execution_count": 96,
   "metadata": {},
   "outputs": [],
   "source": [
    "def lead(board, moves, dice, player):\n",
    "    \n",
    "    max = -2\n",
    "    max_i = -1\n",
    "    for i in range(0, 4):\n",
    "        if moves[i] == 1 and board[player, i] > max and board[player, i] < 28:\n",
    "            max = board[player, i]\n",
    "            max_i = i\n",
    "    \n",
    "    if max_i < 0:\n",
    "        return moves\n",
    "    else:\n",
    "        result = np.array([0,0,0,0])   \n",
    "        result[max_i] = 1\n",
    "        return result"
   ]
  },
  {
   "cell_type": "code",
   "execution_count": 97,
   "metadata": {},
   "outputs": [],
   "source": [
    "def new(board, moves, dice, player):\n",
    "    \n",
    "    max = -2\n",
    "    max_i = -1\n",
    "    for i in range(0, 4):\n",
    "        if moves[i] == 1 and board[player, i] == -1:\n",
    "            max = board[player, i]\n",
    "            max_i = i\n",
    "            break\n",
    "    \n",
    "    if max_i < 0:\n",
    "        return moves\n",
    "    else:\n",
    "        result = np.array([0,0,0,0])   \n",
    "        result[max_i] = 1\n",
    "        return result"
   ]
  },
  {
   "cell_type": "code",
   "execution_count": 103,
   "metadata": {},
   "outputs": [],
   "source": [
    "def eat(board, moves, dice, player):\n",
    "    \n",
    "    result = np.array([0,0,0,0])\n",
    "    for m in range(0,4):\n",
    "        if moves[m] == 1:\n",
    "            for i in range(0, 4):\n",
    "                for j in range(0, 4):\n",
    "                    if (board[player, m] + dice == board[i,j] and board[i,j] < 28 and board[player, m] != -1) or (board[i,j] == 0 and board[player, m] == -1):\n",
    "                        result[m] = 1\n",
    "                \n",
    "    if sum(result) == 0:\n",
    "        return moves\n",
    "    else:\n",
    "        return result"
   ]
  },
  {
   "cell_type": "code",
   "execution_count": 106,
   "metadata": {},
   "outputs": [],
   "source": [
    "def goal(board, moves, dice, player):\n",
    "    \n",
    "    result = np.array([0,0,0,0])\n",
    "    \n",
    "    for m in range(0,4):\n",
    "        if moves[m] == i and dice + board[player, m] > 27:\n",
    "            result[m] = 1\n",
    "    \n",
    "    if sum(result) == 0:\n",
    "        return moves\n",
    "    else:\n",
    "        return result"
   ]
  },
  {
   "cell_type": "code",
   "execution_count": 120,
   "metadata": {},
   "outputs": [],
   "source": [
    "def last(board, moves, dice, player):\n",
    "    \n",
    "    min = 32\n",
    "    min_i = -1\n",
    "    for i in range(0, 4):\n",
    "        if moves[i] == 1 and board[player, i] < min and board[player, i] > -1:\n",
    "            min = board[player, i]\n",
    "            min_i = i\n",
    "    \n",
    "    if min_i < 0:\n",
    "        return moves\n",
    "    else:\n",
    "        result = np.array([0,0,0,0])   \n",
    "        result[min_i] = 1\n",
    "        return result"
   ]
  },
  {
   "cell_type": "code",
   "execution_count": 121,
   "metadata": {},
   "outputs": [],
   "source": [
    "#lead\n",
    "#new\n",
    "#eat\n",
    "#goal\n",
    "#last\n",
    "karki_liikkuu = np.array([100, 20, 30, 50, 0, 0, 0, 0, 0, 0])\n",
    "juna_liikkuu  = np.array([0, 120, 30, 0, 100, 0, 0, 0, 0, 0])\n",
    "full_destruction = np.array([0, 400, 500, 0, 0, 0, 0, 0, 0, 0])\n",
    "smart = np.array([70, 10, 100, 200, 50, 0, 0, 0, 0, 0])"
   ]
  },
  {
   "cell_type": "code",
   "execution_count": 124,
   "metadata": {},
   "outputs": [],
   "source": [
    "strategies = np.zeros((4,10))\n",
    "strategies[0,:] = karki_liikkuu\n",
    "strategies[1,:] = juna_liikkuu\n",
    "strategies[2,:] = full_destruction\n",
    "strategies[3,:] = smart"
   ]
  },
  {
   "cell_type": "code",
   "execution_count": 129,
   "metadata": {},
   "outputs": [
    {
     "name": "stdout",
     "output_type": "stream",
     "text": [
      "0\n",
      "10\n",
      "20\n",
      "30\n",
      "40\n",
      "50\n",
      "60\n",
      "70\n",
      "80\n",
      "90\n",
      "100\n",
      "110\n",
      "120\n",
      "130\n",
      "140\n",
      "150\n",
      "160\n",
      "170\n",
      "180\n",
      "190\n",
      "200\n",
      "210\n",
      "220\n",
      "230\n",
      "240\n",
      "250\n",
      "260\n",
      "270\n",
      "280\n",
      "290\n",
      "300\n",
      "310\n",
      "320\n",
      "330\n",
      "340\n",
      "350\n",
      "360\n",
      "370\n",
      "380\n",
      "390\n",
      "400\n",
      "410\n",
      "420\n",
      "430\n",
      "440\n",
      "450\n",
      "460\n",
      "470\n",
      "480\n",
      "490\n",
      "500\n",
      "510\n",
      "520\n",
      "530\n",
      "540\n",
      "550\n",
      "560\n",
      "570\n",
      "580\n",
      "590\n",
      "600\n",
      "610\n",
      "620\n",
      "630\n",
      "640\n",
      "650\n",
      "660\n",
      "670\n",
      "680\n",
      "690\n",
      "700\n",
      "710\n",
      "720\n",
      "730\n",
      "740\n",
      "750\n",
      "760\n",
      "770\n",
      "780\n",
      "790\n",
      "800\n",
      "810\n",
      "820\n",
      "830\n",
      "840\n",
      "850\n",
      "860\n",
      "870\n",
      "880\n",
      "890\n",
      "900\n",
      "910\n",
      "920\n",
      "930\n",
      "940\n",
      "950\n",
      "960\n",
      "970\n",
      "980\n",
      "990\n"
     ]
    }
   ],
   "source": [
    "wins = []\n",
    "for i in range(0,1000):\n",
    "    if i % 10 == 0:\n",
    "        print(i)\n",
    "    wins.append(game(strategies))"
   ]
  },
  {
   "cell_type": "code",
   "execution_count": 130,
   "metadata": {},
   "outputs": [
    {
     "data": {
      "text/plain": [
       "(array([ 325.,    0.,    0.,   84.,    0.,    0.,  326.,    0.,    0.,  265.]),\n",
       " array([ 0. ,  0.3,  0.6,  0.9,  1.2,  1.5,  1.8,  2.1,  2.4,  2.7,  3. ]),\n",
       " <a list of 10 Patch objects>)"
      ]
     },
     "execution_count": 130,
     "metadata": {},
     "output_type": "execute_result"
    },
    {
     "data": {
      "image/png": "[encoded data removed]",
      "text/plain": [
       "<matplotlib.figure.Figure at 0x7fcc11693390>"
      ]
     },
     "metadata": {},
     "output_type": "display_data"
    }
   ],
   "source": [
    "plt.hist(wins)"
   ]
  },
  {
   "cell_type": "code",
   "execution_count": null,
   "metadata": {},
   "outputs": [],
   "source": []
  }
 ],
 "metadata": {
  "kernelspec": {
   "display_name": "Python 3",
   "language": "python",
   "name": "python3"
  },
  "language_info": {
   "codemirror_mode": {
    "name": "ipython",
    "version": 3
   },
   "file_extension": ".py",
   "mimetype": "text/x-python",
   "name": "python",
   "nbconvert_exporter": "python",
   "pygments_lexer": "ipython3",
   "version": "3.5.2"
  }
 },
 "nbformat": 4,
 "nbformat_minor": 2
}
