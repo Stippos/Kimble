{
 "cells": [
  {
   "cell_type": "code",
   "execution_count": 2,
   "metadata": {},
   "outputs": [],
   "source": [
    "class Player:\n",
    "    \n",
    "    def __init__(self, strategy, number):\n",
    "        self.strategy = strategy \n",
    "        self.number = number\n",
    "        \n",
    "    "
   ]
  },
  {
   "cell_type": "code",
   "execution_count": 8,
   "metadata": {},
   "outputs": [
    {
     "name": "stdout",
     "output_type": "stream",
     "text": [
      "aggressive\n",
      "1\n"
     ]
    }
   ],
   "source": [
    "p = Player(\"aggressive\", 1)\n",
    "print(p.strategy)\n",
    "\n",
    "p.number = 4"
   ]
  },
  {
   "cell_type": "code",
   "execution_count": 10,
   "metadata": {},
   "outputs": [
    {
     "name": "stdout",
     "output_type": "stream",
     "text": [
      "4\n"
     ]
    }
   ],
   "source": [
    "print(p.number)"
   ]
  },
  {
   "cell_type": "code",
   "execution_count": 201,
   "metadata": {},
   "outputs": [],
   "source": [
    "import numpy as np\n",
    "\n",
    "def game(players):\n",
    "    \n",
    "    board = np.zeros((4,4), dtype = int) - 1\n",
    "    win = 0\n",
    "    \n",
    "    while win != 1:\n",
    "        for i in range(0,4):\n",
    "            input()\n",
    "            board = play(i, board, \"random\")\n",
    "            print(board)\n",
    "            if sum(board[i,:]) == 118:\n",
    "                win = 1\n",
    "        \n",
    "        \n",
    "\n",
    "    \n",
    "    "
   ]
  },
  {
   "cell_type": "code",
   "execution_count": null,
   "metadata": {},
   "outputs": [
    {
     "name": "stdout",
     "output_type": "stream",
     "text": [
      "[[-1 -1 -1 -1]\n",
      " [-1 -1 -1 -1]\n",
      " [-1 -1 -1 -1]\n",
      " [-1 -1 -1 -1]]\n",
      "[[-1 -1 -1 -1]\n",
      " [ 0 -1 -1 -1]\n",
      " [-1 -1 -1 -1]\n",
      " [-1 -1 -1 -1]]\n",
      "[[-1 -1 -1 -1]\n",
      " [ 0 -1 -1 -1]\n",
      " [ 0 -1 -1 -1]\n",
      " [-1 -1 -1 -1]]\n",
      "[[-1 -1 -1 -1]\n",
      " [14 -1 -1 -1]\n",
      " [21 -1 -1 -1]\n",
      " [-1 -1 -1 -1]]\n"
     ]
    }
   ],
   "source": [
    "game(1)"
   ]
  },
  {
   "cell_type": "code",
   "execution_count": 198,
   "metadata": {},
   "outputs": [],
   "source": [
    "def play(player, board, strategy):\n",
    "    transformBoard(player, board)\n",
    "    strategies = {\"random\": np.random.random(10)}\n",
    "    dice = np.random.randint(1,7)\n",
    "    moves = playableMoves(board, dice, player)\n",
    "    \n",
    "    if np.sum(moves) == 0:\n",
    "        return board\n",
    "    \n",
    "    util = utility(board, moves, dice)\n",
    "    score = list(np.dot(strategies[strategy], util))\n",
    "    move = score.index(max(score))\n",
    "    \n",
    "    newBoard(board, move, dice, player)\n",
    "    reverseBoard(player, board)\n",
    "    \n",
    "    return board"
   ]
  },
  {
   "cell_type": "code",
   "execution_count": 165,
   "metadata": {},
   "outputs": [
    {
     "name": "stdout",
     "output_type": "stream",
     "text": [
      "[[31  2  0 -1]\n",
      " [27 10 -1 -1]\n",
      " [ 4  1 -1 -1]\n",
      " [23 -1 -1 -1]]\n",
      "[[31 16 14 -1]\n",
      " [20  3 -1 -1]\n",
      " [ 4  1 -1 -1]\n",
      " [ 2 -1 -1 -1]]\n",
      "[[31  2  0 -1]\n",
      " [27 10 -1 -1]\n",
      " [ 4  1 -1 -1]\n",
      " [23 -1 -1 -1]]\n"
     ]
    }
   ],
   "source": [
    "board = np.zeros((4,4), dtype = int) - 1\n",
    "board[0,:] = [31, 2, 0, -1]\n",
    "board[1,:] = [27, 10, -1, -1]\n",
    "board[2,:] = [4, 1, -1, -1]\n",
    "board[3,:] = [23, -1, -1, -1]\n",
    "print(board)\n",
    "transformBoard(2, board)\n",
    "print(board)\n",
    "reverseBoard(2, board)\n",
    "print(board)"
   ]
  },
  {
   "cell_type": "code",
   "execution_count": 166,
   "metadata": {},
   "outputs": [
    {
     "name": "stdout",
     "output_type": "stream",
     "text": [
      "[1 0 0 0]\n"
     ]
    }
   ],
   "source": [
    "print(playableMoves(board, 3, 2))"
   ]
  },
  {
   "cell_type": "code",
   "execution_count": 167,
   "metadata": {},
   "outputs": [],
   "source": [
    "def newBoard(board, move, dice, player):\n",
    "    if board[player, move] == -1:\n",
    "        board[player, move] = 0\n",
    "    else:\n",
    "        board[player, move] += dice\n",
    "    \n",
    "    for i in range(0,4):\n",
    "        for j in range(0, 4):\n",
    "            if i != player:\n",
    "                if board[i,j] == board[player, move] and board[i,j] < 28: \n",
    "                    board[i,j] = -1"
   ]
  },
  {
   "cell_type": "code",
   "execution_count": 168,
   "metadata": {},
   "outputs": [],
   "source": [
    "def reverseBoard(player, board):\n",
    "    oldBoard = np.array(board)\n",
    "    for i in range(0,3):\n",
    "        board[(player + i + 1) % 4,:] = (board[(player + i + 1) % 4,:] - 7 * (i+1)) % 28  \n",
    "    for i in range(0,4):\n",
    "        for j in range(0,4):\n",
    "            if(oldBoard[i,j] == -1 or oldBoard[i,j] > 27):\n",
    "                board[i,j] = oldBoard[i,j]"
   ]
  },
  {
   "cell_type": "code",
   "execution_count": 169,
   "metadata": {},
   "outputs": [
    {
     "name": "stdout",
     "output_type": "stream",
     "text": [
      "[[31  2  0 -1]\n",
      " [27 10 -1 -1]\n",
      " [11  1 -1 -1]\n",
      " [23 -1 -1 -1]]\n"
     ]
    }
   ],
   "source": [
    "newBoard(board, 0, 7, 2)\n",
    "print(board)"
   ]
  },
  {
   "cell_type": "code",
   "execution_count": 170,
   "metadata": {},
   "outputs": [],
   "source": [
    "def transformBoard(player, board):\n",
    "    oldBoard = np.array(board)\n",
    "    for i in range(0,3):\n",
    "        board[(player + i + 1) % 4,:] = (board[(player + i + 1) % 4,:] + 7 * (i+1)) % 28  \n",
    "    for i in range(0,4):\n",
    "        for j in range(0,4):\n",
    "            if(oldBoard[i,j] == -1 or oldBoard[i,j] > 27):\n",
    "                board[i,j] = oldBoard[i,j]"
   ]
  },
  {
   "cell_type": "code",
   "execution_count": 171,
   "metadata": {},
   "outputs": [
    {
     "name": "stdout",
     "output_type": "stream",
     "text": [
      "[[31  2  0 -1]\n",
      " [27 10 -1 -1]\n",
      " [11  1 -1 -1]\n",
      " [23 -1 -1 -1]]\n",
      "[[31  2  0 -1]\n",
      " [27 10 -1 -1]\n",
      " [11  1 -1 -1]\n",
      " [23 -1 -1 -1]]\n"
     ]
    }
   ],
   "source": [
    "print(board)\n",
    "print(board)"
   ]
  },
  {
   "cell_type": "code",
   "execution_count": 172,
   "metadata": {},
   "outputs": [],
   "source": [
    "def playableMoves(board, dice, player):\n",
    "    moves = np.array([0,0,0,0])\n",
    "    for i in range(0, 4):\n",
    "        if len(np.where(board[player,:] == board[player,i] + dice)[0]) == 0 and board[player, i] + dice < 32 and board[player, i] != -1:\n",
    "            moves[i] = 1\n",
    "        else:\n",
    "            moves[i] = 0\n",
    "        if dice == 6 and len(np.where(board[player,:] == 0)[0]) == 0 and board[player, i] == -1:\n",
    "            moves[i] = 1\n",
    "        \n",
    "    return moves"
   ]
  },
  {
   "cell_type": "code",
   "execution_count": 173,
   "metadata": {},
   "outputs": [],
   "source": [
    "def utility(board, moves, dice):\n",
    "    utils = np.ones((10,4), dtype = float)\n",
    "    for i in range(0, 10):\n",
    "        utils[i,:] = moves\n",
    "    return utils"
   ]
  },
  {
   "cell_type": "code",
   "execution_count": 174,
   "metadata": {},
   "outputs": [],
   "source": [
    "def strategy(strat):\n",
    "    return 1"
   ]
  },
  {
   "cell_type": "code",
   "execution_count": 175,
   "metadata": {},
   "outputs": [
    {
     "name": "stdout",
     "output_type": "stream",
     "text": [
      "[1 1 0 0]\n"
     ]
    }
   ],
   "source": [
    "board = np.zeros((4,4), dtype = int) - 1\n",
    "board[0,:] = [31, 2, 0, -1]\n",
    "board[1,:] = [27, 10, -1, -1]\n",
    "board[2,:] = [4, 1, -1, -1]\n",
    "board[3,:] = [23, -1, -1, -1]\n",
    "\n",
    "board[0,2] = 2\n",
    "#len(np.where(board[0,:] == 0))\n",
    "board\n",
    "print(move)"
   ]
  },
  {
   "cell_type": "code",
   "execution_count": 176,
   "metadata": {},
   "outputs": [
    {
     "ename": "SyntaxError",
     "evalue": "unexpected EOF while parsing (<ipython-input-176-acf6b409c256>, line 2)",
     "output_type": "error",
     "traceback": [
      "\u001b[0;36m  File \u001b[0;32m\"<ipython-input-176-acf6b409c256>\"\u001b[0;36m, line \u001b[0;32m2\u001b[0m\n\u001b[0;31m    \u001b[0m\n\u001b[0m    ^\u001b[0m\n\u001b[0;31mSyntaxError\u001b[0m\u001b[0;31m:\u001b[0m unexpected EOF while parsing\n"
     ]
    }
   ],
   "source": [
    "def strategy(board, possible, dice):\n",
    "    "
   ]
  },
  {
   "cell_type": "code",
   "execution_count": 69,
   "metadata": {},
   "outputs": [
    {
     "data": {
      "text/plain": [
       "array([ 0.74362146,  0.52860577,  0.25519521,  0.38923921,  0.49550873,\n",
       "        0.30536068,  0.43373756,  0.31171587,  0.54232411,  0.46474764])"
      ]
     },
     "execution_count": 69,
     "metadata": {},
     "output_type": "execute_result"
    }
   ],
   "source": [
    "np.random.random(10)"
   ]
  },
  {
   "cell_type": "code",
   "execution_count": 46,
   "metadata": {},
   "outputs": [
    {
     "ename": "AttributeError",
     "evalue": "'numpy.ndarray' object has no attribute 'isEmpty'",
     "output_type": "error",
     "traceback": [
      "\u001b[0;31m---------------------------------------------------------------------------\u001b[0m",
      "\u001b[0;31mAttributeError\u001b[0m                            Traceback (most recent call last)",
      "\u001b[0;32m<ipython-input-46-5297f73e5255>\u001b[0m in \u001b[0;36m<module>\u001b[0;34m()\u001b[0m\n\u001b[0;32m----> 1\u001b[0;31m \u001b[0mboard\u001b[0m\u001b[0;34m.\u001b[0m\u001b[0misEmpty\u001b[0m\u001b[0;34m(\u001b[0m\u001b[0;34m)\u001b[0m\u001b[0;34m\u001b[0m\u001b[0m\n\u001b[0m",
      "\u001b[0;31mAttributeError\u001b[0m: 'numpy.ndarray' object has no attribute 'isEmpty'"
     ]
    }
   ],
   "source": [
    "board.isEmpty()"
   ]
  },
  {
   "cell_type": "code",
   "execution_count": null,
   "metadata": {},
   "outputs": [],
   "source": []
  }
 ],
 "metadata": {
  "kernelspec": {
   "display_name": "Python 3",
   "language": "python",
   "name": "python3"
  },
  "language_info": {
   "codemirror_mode": {
    "name": "ipython",
    "version": 3
   },
   "file_extension": ".py",
   "mimetype": "text/x-python",
   "name": "python",
   "nbconvert_exporter": "python",
   "pygments_lexer": "ipython3",
   "version": "3.5.2"
  }
 },
 "nbformat": 4,
 "nbformat_minor": 2
}
