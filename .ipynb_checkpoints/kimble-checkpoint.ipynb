{
 "cells": [
  {
   "cell_type": "code",
   "execution_count": 1,
   "metadata": {},
   "outputs": [],
   "source": [
    "import numpy as np\n",
    "import matplotlib.pyplot as plt\n",
    "\n",
    "def game(strategies, b):\n",
    "    global bias\n",
    "    bias = b\n",
    "    global prev_dice\n",
    "    prev_dice = np.random.uniform(1,7)\n",
    "    \n",
    "    board = np.zeros((4,4), dtype = int) - 1\n",
    "    win = 0\n",
    "    \n",
    "    while win != 1:\n",
    "        for i in range(0,4):\n",
    "            board = play(i, board, strategies[i,:])\n",
    "            #print(board)\n",
    "            if sum(board[i,:]) == 118:\n",
    "                win = 1\n",
    "                return i"
   ]
  },
  {
   "cell_type": "code",
   "execution_count": 2,
   "metadata": {},
   "outputs": [],
   "source": [
    "def unfair_dice(previous_dice):\n",
    "    r = np.random.uniform(0,1)\n",
    "    new_dice = 0\n",
    "    \n",
    "    if previous_dice == 1:\n",
    "        w1 = [1/13, 3/13, 5/13, 7/13, 9/13, 13/13]\n",
    "        \n",
    "        for i in range(6):\n",
    "            if r < w1[i]:\n",
    "                new_dice = i + 1\n",
    "                break\n",
    "                \n",
    "    elif previous_dice == 2:\n",
    "        w2 = [2/13, 3/13, 5/13, 7/13, 11/13, 13/13]\n",
    "            \n",
    "        for i in range(6):\n",
    "            if r < w2[i]:\n",
    "                new_dice = i + 1\n",
    "                break\n",
    "                \n",
    "    elif previous_dice == 3:\n",
    "        w3 = [2/13, 4/13, 5/13, 9/13, 11/13, 13/13]\n",
    "        \n",
    "        for i in range(6):\n",
    "            if r < w3[i]:\n",
    "                new_dice = i + 1\n",
    "                break\n",
    "                \n",
    "    elif previous_dice == 4:\n",
    "        w4 = [2/13, 4/13, 8/13, 9/13, 11/13, 13/13]\n",
    "        \n",
    "        for i in range(6):\n",
    "            if r < w4[i]:\n",
    "                new_dice = i + 1\n",
    "                break\n",
    "                \n",
    "    elif previous_dice == 5:\n",
    "        w5 = [2/13, 6/13, 8/13, 10/13, 11/13, 13/13]\n",
    "        \n",
    "        for i in range(6):\n",
    "            if r < w5[i]:\n",
    "                new_dice = i + 1\n",
    "                break\n",
    "    else:\n",
    "        w6 = [4/13, 6/13, 8/13, 10/13, 12/13, 13/13]\n",
    "        \n",
    "        for i in range(6):\n",
    "            if r < w6[i]:\n",
    "                new_dice = i + 1\n",
    "                break\n",
    "                \n",
    "    return new_dice"
   ]
  },
  {
   "cell_type": "code",
   "execution_count": 123,
   "metadata": {},
   "outputs": [],
   "source": [
    "#dices = []\n",
    "\n",
    "#for i in range(500000):\n",
    "#    dices.append(unfair_dice(6))\n",
    "    \n",
    "#plt.hist(dices)"
   ]
  },
  {
   "cell_type": "code",
   "execution_count": 3,
   "metadata": {},
   "outputs": [],
   "source": [
    "def play(player, board, strategy):\n",
    "    transformBoard(player, board)\n",
    "    global bias\n",
    "    global prev_dice\n",
    "    if bias == 0:\n",
    "        dice = np.random.randint(1,7)\n",
    "    else:\n",
    "        dice = unfair_dice(prev_dice)\n",
    "        \n",
    "    prev_dice = dice\n",
    "    \n",
    "    moves = playableMoves(board, dice, player)\n",
    "    \n",
    "    if np.sum(moves) == 0:\n",
    "        reverseBoard(player, board)\n",
    "        return board\n",
    "    \n",
    "    util = utility(board, moves, dice, player)\n",
    "    score = list(np.dot(strategy, util))\n",
    "    move = score.index(max(score))\n",
    "    \n",
    "    newBoard(board, move, dice, player)\n",
    "    reverseBoard(player, board)\n",
    "    \n",
    "    if dice == 6:\n",
    "        play(player, board, strategy)\n",
    "    \n",
    "    return board"
   ]
  },
  {
   "cell_type": "code",
   "execution_count": 4,
   "metadata": {},
   "outputs": [],
   "source": [
    "def newBoard(board, move, dice, player):\n",
    "    if board[player, move] == -1:\n",
    "        board[player, move] = 0\n",
    "    else:\n",
    "        board[player, move] += dice\n",
    "    \n",
    "    for i in range(0,4):\n",
    "        for j in range(0, 4):\n",
    "            if i != player:\n",
    "                if board[i,j] == board[player, move] and board[i,j] < 28: \n",
    "                    #print(\"lors\")\n",
    "                    board[i,j] = -1"
   ]
  },
  {
   "cell_type": "code",
   "execution_count": 5,
   "metadata": {},
   "outputs": [],
   "source": [
    "def reverseBoard(player, board):\n",
    "    oldBoard = np.array(board)\n",
    "    for i in range(0,3):\n",
    "        board[(player + i + 1) % 4,:] = (board[(player + i + 1) % 4,:] - 7 * (i+1)) % 28  \n",
    "   \n",
    "\n",
    "    mask = (oldBoard == -1) | (oldBoard > 27)\n",
    "    board[mask] = oldBoard[mask]\n",
    "    #for i in range(0,4):\n",
    "       #for j in range(0,4):\n",
    "            #if(oldBoard[i,j] == -1 or oldBoard[i,j] > 27):\n",
    "                #board[i,j] = oldBoard[i,j]"
   ]
  },
  {
   "cell_type": "code",
   "execution_count": 7,
   "metadata": {},
   "outputs": [],
   "source": [
    "def transformBoard(player, board):\n",
    "    oldBoard = np.array(board)\n",
    "    for i in range(0,3):\n",
    "        board[(player + i + 1) % 4,:] = (board[(player + i + 1) % 4,:] + 7 * (i+1)) % 28  \n",
    "    for i in range(0,4):\n",
    "        for j in range(0,4):\n",
    "            if(oldBoard[i,j] == -1 or oldBoard[i,j] > 27):\n",
    "                board[i,j] = oldBoard[i,j]"
   ]
  },
  {
   "cell_type": "code",
   "execution_count": 8,
   "metadata": {},
   "outputs": [],
   "source": [
    "def playableMoves(board, dice, player):\n",
    "    moves = np.array([0,0,0,0])\n",
    "    for i in range(0, 4):\n",
    "        if len(np.where(board[player,:] == board[player,i] + dice)[0]) == 0 and board[player, i] + dice < 32 and board[player, i] != -1:\n",
    "            moves[i] = 1\n",
    "        else:\n",
    "            moves[i] = 0\n",
    "        if dice == 6 and len(np.where(board[player,:] == 0)[0]) == 0 and board[player, i] == -1:\n",
    "            moves[i] = 1\n",
    "        \n",
    "    return moves"
   ]
  },
  {
   "cell_type": "code",
   "execution_count": 9,
   "metadata": {},
   "outputs": [],
   "source": [
    "def utility(board, moves, dice, player):\n",
    "    utils = np.zeros((10,4), dtype = float)\n",
    "    \n",
    "    utils[0,:] = lead(board, moves, dice, player)\n",
    "    utils[1,:] = new(board, moves, dice, player)\n",
    "    utils[2,:] = eat(board, moves, dice, player)\n",
    "    utils[3,:] = goal(board, moves, dice, player)\n",
    "    utils[4,:] = last(board, moves, dice, player)\n",
    "    utils[5,:] = eaters(board, moves, dice, player)\n",
    "    utils[6,:] = eatables(board, moves, dice, player)\n",
    "    return utils"
   ]
  },
  {
   "cell_type": "code",
   "execution_count": 10,
   "metadata": {},
   "outputs": [],
   "source": [
    "def lead(board, moves, dice, player):\n",
    "    \n",
    "    max = -2\n",
    "    max_i = -1\n",
    "    for i in range(0, 4):\n",
    "        if moves[i] == 1 and board[player, i] > max and board[player, i] < 28:\n",
    "            max = board[player, i]\n",
    "            max_i = i\n",
    "    \n",
    "    if max_i < 0:\n",
    "        return moves\n",
    "    else:\n",
    "        result = np.array([0,0,0,0])   \n",
    "        result[max_i] = 1\n",
    "        return result"
   ]
  },
  {
   "cell_type": "code",
   "execution_count": 11,
   "metadata": {},
   "outputs": [],
   "source": [
    "def new(board, moves, dice, player):\n",
    "    \n",
    "    max = -2\n",
    "    max_i = -1\n",
    "    for i in range(0, 4):\n",
    "        if moves[i] == 1 and board[player, i] == -1:\n",
    "            max = board[player, i]\n",
    "            max_i = i\n",
    "            break\n",
    "    \n",
    "    if max_i < 0:\n",
    "        return moves\n",
    "    else:\n",
    "        result = np.array([0,0,0,0])   \n",
    "        result[max_i] = 1\n",
    "        return result"
   ]
  },
  {
   "cell_type": "code",
   "execution_count": 12,
   "metadata": {},
   "outputs": [],
   "source": [
    "def eat(board, moves, dice, player):\n",
    "    \n",
    "    result = np.array([0,0,0,0])\n",
    "    for m in range(0,4):\n",
    "        if moves[m] == 1:\n",
    "            for i in range(0, 4):\n",
    "                for j in range(0, 4):\n",
    "                    if (board[player, m] + dice == board[i,j] and board[i,j] < 28 and board[player, m] != -1) or (board[i,j] == 0 and board[player, m] == -1):\n",
    "                        result[m] = 1\n",
    "                \n",
    "    if sum(result) == 0:\n",
    "        return moves\n",
    "    else:\n",
    "        return result"
   ]
  },
  {
   "cell_type": "code",
   "execution_count": 13,
   "metadata": {},
   "outputs": [],
   "source": [
    "def goal(board, moves, dice, player):\n",
    "    \n",
    "    result = np.array([0,0,0,0])\n",
    "    \n",
    "    for m in range(0,4):\n",
    "        if moves[m] == 1 and dice + board[player, m] > 27:\n",
    "            result[m] = 1\n",
    "    \n",
    "    if sum(result) == 0:\n",
    "        return moves\n",
    "    else:\n",
    "        return result"
   ]
  },
  {
   "cell_type": "code",
   "execution_count": 14,
   "metadata": {},
   "outputs": [],
   "source": [
    "def last(board, moves, dice, player):\n",
    "    \n",
    "    min = 32\n",
    "    min_i = -1\n",
    "    for i in range(0, 4):\n",
    "        if moves[i] == 1 and board[player, i] < min and board[player, i] > -1:\n",
    "            min = board[player, i]\n",
    "            min_i = i\n",
    "    \n",
    "    if min_i < 0:\n",
    "        return moves\n",
    "    else:\n",
    "        result = np.array([0,0,0,0])   \n",
    "        result[min_i] = 1\n",
    "        return result"
   ]
  },
  {
   "cell_type": "code",
   "execution_count": 16,
   "metadata": {},
   "outputs": [],
   "source": [
    "def can_be_eaten(board, place, dice, player):\n",
    "    if dice == 6 and board[player, place] == -1:\n",
    "        location = 0\n",
    "    else:\n",
    "        location = board[player, place] + dice\n",
    "    \n",
    "    if location > 27:\n",
    "        return 0\n",
    "    \n",
    "    eaters = 0\n",
    "    \n",
    "    abs_board = np.array(board)\n",
    "    reverseBoard(player, abs_board)\n",
    "    for i in range(0, 4):\n",
    "        if i != player:\n",
    "            for j in range(0,4):\n",
    "                difference = location - board[i,j]\n",
    "                if board[i,j] < 28 and board[i,j] != -1 and difference <= 6 and difference > 0 and abs_board[i,j] + difference < 28:  \n",
    "                    eaters += 1\n",
    "    \n",
    "    return eaters"
   ]
  },
  {
   "cell_type": "code",
   "execution_count": 17,
   "metadata": {},
   "outputs": [],
   "source": [
    "def eaters(board, moves, dice, player):\n",
    "    result = np.array([0, 0, 0, 0])\n",
    "    for m in range(0,4):\n",
    "        if moves[m] == 1:\n",
    "            result[m] = can_be_eaten(board, m, 0, player) - can_be_eaten(board, m, dice, player)\n",
    "    \n",
    "    if sum(result) == 0:\n",
    "        return moves\n",
    "    else:\n",
    "        return result"
   ]
  },
  {
   "cell_type": "code",
   "execution_count": 18,
   "metadata": {},
   "outputs": [],
   "source": [
    "def can_eat(board, place, dice, player):\n",
    "    \n",
    "    if dice == 6 and board[player, place] == -1:\n",
    "        location = 0\n",
    "    else:\n",
    "        location = board[player, place] + dice\n",
    "    \n",
    "    if location > 27:\n",
    "        return 0\n",
    "    \n",
    "    can_eat = 0\n",
    "    \n",
    "    for i in range(0, 4):\n",
    "        if i != player:\n",
    "            for j in range(0,4):\n",
    "                difference = board[i,j] - location\n",
    "                if board[i,j] < 28 and board[i,j] != -1 and difference <= 6 and difference > 0:  \n",
    "                    can_eat += 1\n",
    "    \n",
    "    return can_eat"
   ]
  },
  {
   "cell_type": "code",
   "execution_count": 19,
   "metadata": {},
   "outputs": [],
   "source": [
    "def eatables(board, moves, dice, player):\n",
    "    result = np.array([0, 0, 0, 0])\n",
    "    for m in range(0,4):\n",
    "        if moves[m] == 1:\n",
    "            result[m] = can_eat(board, m, dice, player) - can_eat(board, m, 0, player)\n",
    "    \n",
    "    if sum(result) == 0:\n",
    "        return moves\n",
    "    else:\n",
    "        return result"
   ]
  },
  {
   "cell_type": "code",
   "execution_count": 20,
   "metadata": {},
   "outputs": [],
   "source": [
    "#lead\n",
    "#new\n",
    "#eat\n",
    "#goal\n",
    "#last\n",
    "karki_liikkuu = np.array([100, 20, 30, 50, 0, 20, 10, 0, 0, 0])\n",
    "juna_liikkuu  = np.array([0, 120, 30, 0, 100, 50, 10, 0, 0, 0])\n",
    "full_destruction = np.array([0, 400, 500, 0, 0, 0, 200, 0, 0, 0])\n",
    "smart = np.array([70, 10, 100, 200, 50, 20, 30, 0, 0, 0])"
   ]
  },
  {
   "cell_type": "code",
   "execution_count": 21,
   "metadata": {},
   "outputs": [],
   "source": [
    "strategies = np.zeros((4,10))\n",
    "strategies[0,:] = karki_liikkuu\n",
    "strategies[1,:] = juna_liikkuu\n",
    "strategies[2,:] = full_destruction\n",
    "strategies[3,:] = smart"
   ]
  },
  {
   "cell_type": "markdown",
   "metadata": {},
   "source": [
    "unbiased_wins = []\n",
    "biased_wins = []\n",
    "\n",
    "for i in range(0,1000):\n",
    "    if i % 10 == 0:\n",
    "        print(i)\n",
    "    unbiased_wins.append(game(strategies, 0))\n",
    "    biased_wins.append(game(strategies, 1))\n",
    "print(\"End\")        "
   ]
  },
  {
   "cell_type": "code",
   "execution_count": 26,
   "metadata": {},
   "outputs": [
    {
     "data": {
      "image/png": "[encoded data removed]",
      "text/plain": [
       "<matplotlib.figure.Figure at 0x7f6a75fc9b70>"
      ]
     },
     "metadata": {},
     "output_type": "display_data"
    }
   ],
   "source": [
    "plt.subplot(1,2,1)\n",
    "plt.hist(unbiased_wins)\n",
    "plt.subplot(1,2,2)\n",
    "plt.hist(biased_wins)\n",
    "plt.show()"
   ]
  },
  {
   "cell_type": "code",
   "execution_count": 30,
   "metadata": {},
   "outputs": [
    {
     "data": {
      "text/plain": [
       "array([-0.03296703, -0.12403101,  0.02108434,  0.06766917])"
      ]
     },
     "execution_count": 30,
     "metadata": {},
     "output_type": "execute_result"
    }
   ],
   "source": [
    "(np.bincount(np.array(biased_wins)) - np.bincount(np.array(unbiased_wins)))/np.bincount(unbiased_wins)"
   ]
  },
  {
   "cell_type": "code",
   "execution_count": 163,
   "metadata": {},
   "outputs": [],
   "source": [
    "def run_game(n, strategies):\n",
    "    wins = []\n",
    "    for i in range(0,n):\n",
    "        #if i % 10 == 0:\n",
    "            #print(i)\n",
    "        wins.append(game(strategies))\n",
    "    return wins"
   ]
  },
  {
   "cell_type": "raw",
   "metadata": {},
   "source": [
    "plt.hist(wins)"
   ]
  },
  {
   "cell_type": "code",
   "execution_count": 168,
   "metadata": {},
   "outputs": [
    {
     "name": "stdout",
     "output_type": "stream",
     "text": [
      " "
     ]
    },
    {
     "data": {
      "text/plain": [
       "         6516750 function calls (6494920 primitive calls) in 39.071 seconds\n",
       "\n",
       "   Ordered by: internal time\n",
       "\n",
       "   ncalls  tottime  percall  cumtime  percall filename:lineno(function)\n",
       "   415386    7.900    0.000    8.224    0.000 <ipython-input-166-1b6dc8e7ca81>:1(reverseBoard)\n",
       "   301360    4.577    0.000   10.224    0.000 <ipython-input-157-0a72ffab61f9>:1(can_be_eaten)\n",
       "   301360    4.004    0.000    4.004    0.000 <ipython-input-159-04afb00925c3>:1(can_eat)\n",
       "   133973    3.847    0.000    3.980    0.000 <ipython-input-149-02b2f3b97c4f>:1(transformBoard)\n",
       "   133973    3.417    0.000    4.245    0.000 <ipython-input-150-a4abb519f9cb>:1(playableMoves)\n",
       "    90964    2.934    0.000    3.372    0.000 <ipython-input-154-0f708fc5e2be>:1(eat)\n",
       "  1516177    2.247    0.000    2.247    0.000 {built-in method numpy.core.multiarray.array}\n",
       "   475999    1.225    0.000    1.225    0.000 {built-in method builtins.sum}\n",
       "    90964    1.185    0.000   23.061    0.000 <ipython-input-151-360d3de43b87>:1(utility)\n",
       "133973/112143    1.018    0.000   38.409    0.000 <ipython-input-124-30294cc85de1>:1(play)\n",
       "    90964    0.912    0.000    0.912    0.000 <ipython-input-125-68953c677183>:1(newBoard)\n",
       "   133973    0.788    0.000    0.788    0.000 {method 'randint' of 'mtrand.RandomState' objects}\n",
       "   133973    0.671    0.000    0.671    0.000 {method 'reduce' of 'numpy.ufunc' objects}\n",
       "    90964    0.499    0.000   11.115    0.000 <ipython-input-158-3f840ee5dbc6>:1(eaters)\n",
       "    90964    0.483    0.000    4.898    0.000 <ipython-input-160-531a9329a875>:1(eatables)\n",
       "    90964    0.465    0.000    0.695    0.000 <ipython-input-152-7729304eec8d>:1(lead)\n",
       "   133973    0.415    0.000    1.222    0.000 fromnumeric.py:1730(sum)\n",
       "    90964    0.409    0.000    0.758    0.000 <ipython-input-155-0b1f92fd473c>:1(goal)\n",
       "    90964    0.400    0.000    0.550    0.000 <ipython-input-156-b5d0731d711a>:1(last)\n",
       "   625324    0.376    0.000    0.376    0.000 {built-in method numpy.core.multiarray.where}\n",
       "      500    0.321    0.001   39.070    0.078 <ipython-input-121-d77725396dfd>:4(game)\n",
       "    90964    0.276    0.000    0.308    0.000 <ipython-input-153-de060d5c99f4>:1(new)\n",
       "    91464    0.180    0.000    0.180    0.000 {built-in method numpy.core.multiarray.zeros}\n",
       "    90964    0.170    0.000    0.170    0.000 {built-in method numpy.core.multiarray.dot}\n",
       "    90964    0.090    0.000    0.090    0.000 {built-in method builtins.max}\n",
       "   133973    0.081    0.000    0.752    0.000 _methods.py:31(_sum)\n",
       "   625324    0.073    0.000    0.073    0.000 {built-in method builtins.len}\n",
       "   133973    0.055    0.000    0.055    0.000 {built-in method builtins.isinstance}\n",
       "    90964    0.050    0.000    0.050    0.000 {method 'index' of 'list' objects}\n",
       "        1    0.001    0.001   39.071   39.071 <ipython-input-163-1090814e39b1>:1(run_game)\n",
       "      500    0.000    0.000    0.000    0.000 {method 'append' of 'list' objects}\n",
       "        1    0.000    0.000   39.071   39.071 {built-in method builtins.exec}\n",
       "        1    0.000    0.000   39.071   39.071 <string>:1(<module>)\n",
       "        1    0.000    0.000    0.000    0.000 {method 'disable' of '_lsprof.Profiler' objects}"
      ]
     },
     "metadata": {},
     "output_type": "display_data"
    }
   ],
   "source": [
    "%prun wins = run_game(500, strategies)"
   ]
  },
  {
   "cell_type": "code",
   "execution_count": null,
   "metadata": {},
   "outputs": [],
   "source": []
  }
 ],
 "metadata": {
  "kernelspec": {
   "display_name": "Python 3",
   "language": "python",
   "name": "python3"
  },
  "language_info": {
   "codemirror_mode": {
    "name": "ipython",
    "version": 3
   },
   "file_extension": ".py",
   "mimetype": "text/x-python",
   "name": "python",
   "nbconvert_exporter": "python",
   "pygments_lexer": "ipython3",
   "version": "3.5.3"
  }
 },
 "nbformat": 4,
 "nbformat_minor": 2
}
